{
 "cells": [
  {
   "cell_type": "code",
   "execution_count": 46,
   "id": "56c6f50b-d4ca-438b-b1c1-0280f14a4cff",
   "metadata": {
    "tags": []
   },
   "outputs": [],
   "source": [
    "import torch\n",
    "import torch.nn as nn\n",
    "import numpy as np\n",
    "import matplotlib.pyplot as plt"
   ]
  },
  {
   "cell_type": "code",
   "execution_count": 47,
   "id": "8e7c1738-b943-479e-aa4c-3412f672e3b8",
   "metadata": {},
   "outputs": [],
   "source": [
    "compute_device = torch.device('cuda')"
   ]
  },
  {
   "cell_type": "code",
   "execution_count": null,
   "id": "516eaf54-37da-48ff-ae11-21477ac626ee",
   "metadata": {},
   "outputs": [],
   "source": []
  },
  {
   "cell_type": "code",
   "execution_count": 48,
   "id": "c454c2f3-1623-478c-b743-652844dea95d",
   "metadata": {},
   "outputs": [],
   "source": [
    "class FullyConnectedRNN(nn.Module):\n",
    "    def __init__(self, hidden_units):\n",
    "        super(FullyConnectedRNN, self).__init__()\n",
    "        \n",
    "        self.parameter_list = nn.ParameterList()\n",
    "        \n",
    "        self.hidden_units = hidden_units\n",
    "        \n",
    "        self.hidden_state = torch.zeros(hidden_units).to(compute_device)\n",
    "        self.W = nn.Parameter(torch.randn(self.hidden_units, self.hidden_units)).to(compute_device)\n",
    "        self.relu = nn.ReLU()\n",
    "        \n",
    "        self.parameter_list.append(self.W)\n",
    "        \n",
    "        # Define the RNN layer\n",
    "        # self.rnn = nn.RNN(input_size, hidden_size, num_layers, batch_first=True)\n",
    "        \n",
    "        # Define the fully connected layer\n",
    "        # self.fc = nn.Linear(hidden_size, output_size)\n",
    "        \n",
    "    def forward(self, x):\n",
    "        \n",
    "        # solution 1: architectural - input-segregated populatons\n",
    "        input_matrix = torch.ones(self.hidden_units).to(compute_device)\n",
    "        input_matrix[:self.hidden_units//2] *= x[0]\n",
    "        input_matrix[self.hidden_units//2:] *= x[1]\n",
    "        \n",
    "        preactivations = self.hidden_state @ self.W + input_matrix\n",
    "        self.hidden_state = self.relu(preactivations)\n",
    "        \n",
    "        # Initialize hidden state with zeros\n",
    "        # h0 = torch.zeros(self.num_layers, x.size(0), self.hidden_size).requires_grad_()\n",
    "        \n",
    "        # Forward propagate RNN\n",
    "#         out, _ = self.rnn(x, h0.detach())\n",
    "        \n",
    "#         # Decode the hidden state at the last time step\n",
    "#         out = self.fc(out[:, -1, :])\n",
    "        \n",
    "        return preactivations, self.hidden_state.detach(), self.W\n",
    "\n",
    "# Example usage\n",
    "# input_size = 10  # Number of features in the input\n",
    "hidden_size = 100  # Number of hidden units in the RNN layer\n",
    "# num_layers = 2  # Number of RNN layers\n",
    "# output_size = 1  # Number of output units\n",
    "\n",
    "# Initialize the model\n",
    "\n",
    "# # Define a sample input tensor (batch_size, sequence_length, input_size)\n",
    "# sample_input = torch.randn(1, 5, input_size)\n",
    "\n",
    "# # Forward pass\n",
    "# output = model(sample_input)\n",
    "# print(output)\n"
   ]
  },
  {
   "cell_type": "code",
   "execution_count": 49,
   "id": "5cfb6e07-7cad-41f5-a4d3-34530ffdc9f0",
   "metadata": {},
   "outputs": [],
   "source": [
    "# FUNCTIONS\n",
    "def generate_acceleration_and_velocity(samples, initial_velocity = 1):\n",
    "    \n",
    "    acceleration = np.around(np.random.normal(0,1, samples), 2)\n",
    "    \n",
    "    velocity = [initial_velocity]\n",
    "    const = 0.1\n",
    "    for i in range(acceleration.shape[0]):\n",
    "        velocity.append(velocity[-1] + const*acceleration[i])\n",
    "    \n",
    "    return acceleration, velocity\n",
    "\n",
    "def generate_variable_sine(samples, velocity):\n",
    "    def get_freq_per_sample(rad_angle, dt):\n",
    "        return 2 * np.pi * rad_angle * dt\n",
    "\n",
    "    t = np.linspace(0, 1, samples)\n",
    "    dt = t[1]-t[0]\n",
    "    # print(dt)\n",
    "    y = list()\n",
    "    phi = 0\n",
    "    for i in range(t.shape[0]):\n",
    "        c = np.cos(phi)\n",
    "        y.append(c)\n",
    "        phi = phi + get_freq_per_sample(10*velocity[i], dt)\n",
    "    return t, y"
   ]
  },
  {
   "cell_type": "code",
   "execution_count": 50,
   "id": "f5d531a2-f6df-4d8d-b898-7875718ecbf4",
   "metadata": {
    "tags": []
   },
   "outputs": [],
   "source": [
    "def generate_inputs(samples):\n",
    "    acceleration, velocity = generate_acceleration_and_velocity(samples)\n",
    "    t, sine_signal = generate_variable_sine(samples, velocity)\n",
    "    return acceleration, sine_signal"
   ]
  },
  {
   "cell_type": "code",
   "execution_count": 51,
   "id": "6d77d38f-07fe-4a68-b0d5-02108975050f",
   "metadata": {},
   "outputs": [],
   "source": [
    "SAMPLE_NUM = 1000\n",
    "acceleration, velocity = generate_acceleration_and_velocity(SAMPLE_NUM)\n",
    "t, sine_signal = generate_variable_sine(SAMPLE_NUM, velocity)"
   ]
  },
  {
   "cell_type": "code",
   "execution_count": null,
   "id": "ac269980-8923-4cdd-84c7-a971ed7335f5",
   "metadata": {},
   "outputs": [],
   "source": []
  },
  {
   "cell_type": "markdown",
   "id": "28d53355-8e88-4da0-81c5-610e450f6d8f",
   "metadata": {},
   "source": [
    "### Training"
   ]
  },
  {
   "cell_type": "code",
   "execution_count": 52,
   "id": "6ab7bdec-c0f7-4031-891d-2944dc5e2c69",
   "metadata": {},
   "outputs": [],
   "source": [
    "def L1_loss_function(x):\n",
    "    return torch.mean(torch.abs(x))"
   ]
  },
  {
   "cell_type": "code",
   "execution_count": 53,
   "id": "960125f3-25e4-4275-89be-febe5c7138e2",
   "metadata": {},
   "outputs": [],
   "source": [
    "model = FullyConnectedRNN(100)\n",
    "\n",
    "criterion = nn.MSELoss()\n",
    "\n",
    "learning_rate = 0.00001\n",
    "optimizer = torch.optim.Adam(model.parameters(), lr=learning_rate)"
   ]
  },
  {
   "cell_type": "code",
   "execution_count": 54,
   "id": "07a526bc-f727-4ae8-b205-ad40637c94da",
   "metadata": {
    "tags": []
   },
   "outputs": [
    {
     "name": "stdout",
     "output_type": "stream",
     "text": [
      "Epoch 1, Loss: nan\n"
     ]
    },
    {
     "ename": "RuntimeError",
     "evalue": "Trying to backward through the graph a second time (or directly access saved tensors after they have already been freed). Saved intermediate values of the graph are freed when you call .backward() or autograd.grad(). Specify retain_graph=True if you need to backward through the graph a second time or if you need to access saved tensors after calling backward.",
     "output_type": "error",
     "traceback": [
      "\u001b[0;31m---------------------------------------------------------------------------\u001b[0m",
      "\u001b[0;31mRuntimeError\u001b[0m                              Traceback (most recent call last)",
      "Cell \u001b[0;32mIn[54], line 21\u001b[0m\n\u001b[1;32m     18\u001b[0m     loss \u001b[38;5;241m=\u001b[39m loss \u001b[38;5;241m+\u001b[39m L1_loss_function(preactivations) \n\u001b[1;32m     20\u001b[0m \u001b[38;5;66;03m# loss = criterion(output_HD_sequence, target_HD_sequence)\u001b[39;00m\n\u001b[0;32m---> 21\u001b[0m \u001b[43mloss\u001b[49m\u001b[38;5;241;43m.\u001b[39;49m\u001b[43mbackward\u001b[49m\u001b[43m(\u001b[49m\u001b[43m)\u001b[49m\n\u001b[1;32m     22\u001b[0m optimizer\u001b[38;5;241m.\u001b[39mstep()\n\u001b[1;32m     23\u001b[0m losses\u001b[38;5;241m.\u001b[39mappend(loss\u001b[38;5;241m.\u001b[39mitem())\n",
      "File \u001b[0;32m/opt/tljh/user/envs/jh_torch/lib/python3.11/site-packages/torch/_tensor.py:492\u001b[0m, in \u001b[0;36mTensor.backward\u001b[0;34m(self, gradient, retain_graph, create_graph, inputs)\u001b[0m\n\u001b[1;32m    482\u001b[0m \u001b[38;5;28;01mif\u001b[39;00m has_torch_function_unary(\u001b[38;5;28mself\u001b[39m):\n\u001b[1;32m    483\u001b[0m     \u001b[38;5;28;01mreturn\u001b[39;00m handle_torch_function(\n\u001b[1;32m    484\u001b[0m         Tensor\u001b[38;5;241m.\u001b[39mbackward,\n\u001b[1;32m    485\u001b[0m         (\u001b[38;5;28mself\u001b[39m,),\n\u001b[0;32m   (...)\u001b[0m\n\u001b[1;32m    490\u001b[0m         inputs\u001b[38;5;241m=\u001b[39minputs,\n\u001b[1;32m    491\u001b[0m     )\n\u001b[0;32m--> 492\u001b[0m \u001b[43mtorch\u001b[49m\u001b[38;5;241;43m.\u001b[39;49m\u001b[43mautograd\u001b[49m\u001b[38;5;241;43m.\u001b[39;49m\u001b[43mbackward\u001b[49m\u001b[43m(\u001b[49m\n\u001b[1;32m    493\u001b[0m \u001b[43m    \u001b[49m\u001b[38;5;28;43mself\u001b[39;49m\u001b[43m,\u001b[49m\u001b[43m \u001b[49m\u001b[43mgradient\u001b[49m\u001b[43m,\u001b[49m\u001b[43m \u001b[49m\u001b[43mretain_graph\u001b[49m\u001b[43m,\u001b[49m\u001b[43m \u001b[49m\u001b[43mcreate_graph\u001b[49m\u001b[43m,\u001b[49m\u001b[43m \u001b[49m\u001b[43minputs\u001b[49m\u001b[38;5;241;43m=\u001b[39;49m\u001b[43minputs\u001b[49m\n\u001b[1;32m    494\u001b[0m \u001b[43m\u001b[49m\u001b[43m)\u001b[49m\n",
      "File \u001b[0;32m/opt/tljh/user/envs/jh_torch/lib/python3.11/site-packages/torch/autograd/__init__.py:251\u001b[0m, in \u001b[0;36mbackward\u001b[0;34m(tensors, grad_tensors, retain_graph, create_graph, grad_variables, inputs)\u001b[0m\n\u001b[1;32m    246\u001b[0m     retain_graph \u001b[38;5;241m=\u001b[39m create_graph\n\u001b[1;32m    248\u001b[0m \u001b[38;5;66;03m# The reason we repeat the same comment below is that\u001b[39;00m\n\u001b[1;32m    249\u001b[0m \u001b[38;5;66;03m# some Python versions print out the first line of a multi-line function\u001b[39;00m\n\u001b[1;32m    250\u001b[0m \u001b[38;5;66;03m# calls in the traceback and some print out the last line\u001b[39;00m\n\u001b[0;32m--> 251\u001b[0m \u001b[43mVariable\u001b[49m\u001b[38;5;241;43m.\u001b[39;49m\u001b[43m_execution_engine\u001b[49m\u001b[38;5;241;43m.\u001b[39;49m\u001b[43mrun_backward\u001b[49m\u001b[43m(\u001b[49m\u001b[43m  \u001b[49m\u001b[38;5;66;43;03m# Calls into the C++ engine to run the backward pass\u001b[39;49;00m\n\u001b[1;32m    252\u001b[0m \u001b[43m    \u001b[49m\u001b[43mtensors\u001b[49m\u001b[43m,\u001b[49m\n\u001b[1;32m    253\u001b[0m \u001b[43m    \u001b[49m\u001b[43mgrad_tensors_\u001b[49m\u001b[43m,\u001b[49m\n\u001b[1;32m    254\u001b[0m \u001b[43m    \u001b[49m\u001b[43mretain_graph\u001b[49m\u001b[43m,\u001b[49m\n\u001b[1;32m    255\u001b[0m \u001b[43m    \u001b[49m\u001b[43mcreate_graph\u001b[49m\u001b[43m,\u001b[49m\n\u001b[1;32m    256\u001b[0m \u001b[43m    \u001b[49m\u001b[43minputs\u001b[49m\u001b[43m,\u001b[49m\n\u001b[1;32m    257\u001b[0m \u001b[43m    \u001b[49m\u001b[43mallow_unreachable\u001b[49m\u001b[38;5;241;43m=\u001b[39;49m\u001b[38;5;28;43;01mTrue\u001b[39;49;00m\u001b[43m,\u001b[49m\n\u001b[1;32m    258\u001b[0m \u001b[43m    \u001b[49m\u001b[43maccumulate_grad\u001b[49m\u001b[38;5;241;43m=\u001b[39;49m\u001b[38;5;28;43;01mTrue\u001b[39;49;00m\u001b[43m,\u001b[49m\n\u001b[1;32m    259\u001b[0m \u001b[43m\u001b[49m\u001b[43m)\u001b[49m\n",
      "\u001b[0;31mRuntimeError\u001b[0m: Trying to backward through the graph a second time (or directly access saved tensors after they have already been freed). Saved intermediate values of the graph are freed when you call .backward() or autograd.grad(). Specify retain_graph=True if you need to backward through the graph a second time or if you need to access saved tensors after calling backward."
     ]
    }
   ],
   "source": [
    "losses = []\n",
    "train_outs = {}\n",
    "\n",
    "samples = 1000\n",
    "\n",
    "for epoch in range(500):\n",
    "    loss = torch.zeros(1, dtype=torch.float, requires_grad=True).to(compute_device)\n",
    "    optimizer.zero_grad()\n",
    "    \n",
    "    train_outs[f'epoch{epoch}'] = {}\n",
    "    \n",
    "    acceleration, sine_signal = generate_inputs(samples)\n",
    "    for t in range(len(acceleration)):\n",
    "        preactivations, hidden_state, W = model([acceleration[t], sine_signal[t]])\n",
    "        # train_outs[f'epoch{epoch}']['preactivations'] = preactivations\n",
    "        # train_outs[f'epoch{epoch}']['hidden_state'] = hidden_state\n",
    "        # train_outs[f'epoch{epoch}']['W'] = W\n",
    "        loss = loss + L1_loss_function(preactivations) \n",
    "\n",
    "    # loss = criterion(output_HD_sequence, target_HD_sequence)\n",
    "    loss.backward()\n",
    "    optimizer.step()\n",
    "    losses.append(loss.item())\n",
    "    print(f'Epoch {epoch+1}, Loss: {loss.item():.4f}')"
   ]
  }
 ],
 "metadata": {
  "kernelspec": {
   "display_name": "Python [conda env:jh_torch]",
   "language": "python",
   "name": "conda-env-jh_torch-py"
  },
  "language_info": {
   "codemirror_mode": {
    "name": "ipython",
    "version": 3
   },
   "file_extension": ".py",
   "mimetype": "text/x-python",
   "name": "python",
   "nbconvert_exporter": "python",
   "pygments_lexer": "ipython3",
   "version": "3.11.6"
  }
 },
 "nbformat": 4,
 "nbformat_minor": 5
}
