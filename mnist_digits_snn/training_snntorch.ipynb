{
 "cells": [
  {
   "cell_type": "markdown",
   "id": "6eb03e68-5fbe-494f-95bb-eebcd6fab8a3",
   "metadata": {},
   "source": [
    "## Training SNNs on temporal sequence MNIST data using SNNTorch network formulation"
   ]
  },
  {
   "cell_type": "code",
   "execution_count": null,
   "id": "f4c4a068-36e0-4153-ba9a-eb3a85776181",
   "metadata": {},
   "outputs": [],
   "source": [
    "# Load the produced mnist sequences into torch's dataset and dataloader"
   ]
  }
 ],
 "metadata": {
  "kernelspec": {
   "display_name": "Python [conda env:jh_snntorch]",
   "language": "python",
   "name": "conda-env-jh_snntorch-py"
  },
  "language_info": {
   "codemirror_mode": {
    "name": "ipython",
    "version": 3
   },
   "file_extension": ".py",
   "mimetype": "text/x-python",
   "name": "python",
   "nbconvert_exporter": "python",
   "pygments_lexer": "ipython3",
   "version": "3.11.7"
  }
 },
 "nbformat": 4,
 "nbformat_minor": 5
}
