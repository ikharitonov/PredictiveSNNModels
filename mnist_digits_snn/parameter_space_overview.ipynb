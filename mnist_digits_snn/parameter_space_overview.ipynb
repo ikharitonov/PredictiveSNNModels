{
 "cells": [
  {
   "cell_type": "code",
   "execution_count": 1,
   "id": "78369770-2f1e-4c13-b745-4a14bd58c861",
   "metadata": {
    "tags": []
   },
   "outputs": [
    {
     "name": "stderr",
     "output_type": "stream",
     "text": [
      "Matplotlib created a temporary cache directory at /tmp/matplotlib-he4ujvds because the default path (/home/jupyter-ikharitonov/.cache/matplotlib) is not a writable directory; it is highly recommended to set the MPLCONFIGDIR environment variable to a writable directory, in particular to speed up the import of Matplotlib and to better support multiprocessing.\n"
     ]
    }
   ],
   "source": [
    "import os\n",
    "import numpy as np\n",
    "import pandas as pd\n",
    "import matplotlib.pyplot as plt\n",
    "from pathlib import Path"
   ]
  },
  {
   "cell_type": "code",
   "execution_count": 2,
   "id": "f0e0e4ed-2dc4-45f6-86e0-36a74fb28832",
   "metadata": {
    "tags": []
   },
   "outputs": [],
   "source": [
    "path = Path.home()/'RANCZLAB-NAS/iakov/produced/mnist_sequence_checkpoints/SNN1_mnist_sequences_250hz'"
   ]
  },
  {
   "cell_type": "code",
   "execution_count": 17,
   "id": "36bccf1f-96de-48d2-b10c-98d8a79a5388",
   "metadata": {
    "tags": []
   },
   "outputs": [],
   "source": [
    "dirlist = os.listdir(path)"
   ]
  },
  {
   "cell_type": "code",
   "execution_count": 18,
   "id": "4672b03e-b933-4608-97fc-b30737e0d586",
   "metadata": {
    "tags": []
   },
   "outputs": [
    {
     "data": {
      "text/plain": [
       "['E_config26_config8_LRx0.1',\n",
       " 'config5_post',\n",
       " 'config14_rheo1_post',\n",
       " 'config16_rheo1_L2_0.1',\n",
       " 'config31_rheo0.98',\n",
       " 'config10_rheobase_0.7',\n",
       " 'E_config11_rheobase_0.8',\n",
       " 'config29_rheo0.94',\n",
       " 'config13_rheobase_0.1',\n",
       " 'config33_rheo1.1',\n",
       " 'config19_rheo1_high_lr',\n",
       " 'config27_likeconfig8_LRx0,01',\n",
       " 'config30_rheo0.96',\n",
       " '.ipynb_checkpoints',\n",
       " 'E_config28_rheo0.92',\n",
       " 'E_config21_rheo1_pretrained',\n",
       " 'config6_sgd',\n",
       " 'config32_rheo1',\n",
       " 'config24_rheo1.01',\n",
       " 'config22_rheobase_2',\n",
       " 'config4_starting_high',\n",
       " 'E_config18_rheo1_high_lr',\n",
       " 'config25_rheo1.02',\n",
       " 'config17_rheo1_L2_1',\n",
       " 'config8_rheobase_1',\n",
       " 'config7_input_strength_exp1',\n",
       " 'E_config20_clipped_config12',\n",
       " 'config3_harsh_steplr',\n",
       " 'E_config9_rheobase_0.9',\n",
       " 'config23_rheo0.99',\n",
       " 'E_config12_rheobase_1.54',\n",
       " 'config34_rheo1.3',\n",
       " 'config15_rheo0.1_post']"
      ]
     },
     "execution_count": 18,
     "metadata": {},
     "output_type": "execute_result"
    }
   ],
   "source": [
    "dirlist[dirlist.index('config2')] = 'config2_'\n",
    "dirlist[dirlist.index('config1')] = 'config1_'\n",
    "dirlist[dirlist.index('config27_config8_LRx0,01')] = 'config27_likeconfig8_LRx0,01'\n",
    "dirlist[dirlist.index('E_config26_config8_LRx0.1')] = 'E_config26_config8_LRx0.1'\n",
    "dirlist"
   ]
  },
  {
   "cell_type": "code",
   "execution_count": 19,
   "id": "068a02b4-17e7-474e-8d70-b7da099e925a",
   "metadata": {
    "tags": []
   },
   "outputs": [],
   "source": [
    "good_configs = [13,10,31,23,8,32,24,25,33,22]"
   ]
  },
  {
   "cell_type": "code",
   "execution_count": 20,
   "id": "05d4358a-00d8-4f3b-bfc3-c8d3e9e869bc",
   "metadata": {
    "tags": []
   },
   "outputs": [],
   "source": [
    "def parse_config_file(file_path):\n",
    "    config_dict = {}\n",
    "    with open(file_path, 'r') as file:\n",
    "        for line in file:\n",
    "            key, value = line.strip().split(':')\n",
    "            key = key.strip()\n",
    "            value = value.strip()\n",
    "            if value.isdigit():\n",
    "                value = int(value)\n",
    "            elif value.startswith('\"') and value.endswith('\"'):\n",
    "                value = value[1:-1]\n",
    "            config_dict[key] = value\n",
    "    return config_dict"
   ]
  },
  {
   "cell_type": "code",
   "execution_count": 21,
   "id": "fa72f091-cad4-4e6d-952f-3356e75fd6c4",
   "metadata": {
    "tags": []
   },
   "outputs": [
    {
     "data": {
      "text/plain": [
       "24"
      ]
     },
     "execution_count": 21,
     "metadata": {},
     "output_type": "execute_result"
    }
   ],
   "source": [
    "[f\"config{8}\" == x.split('_')[0] or f\"config{8}\" == x.split('_')[1] for x in dirlist].index(True)"
   ]
  },
  {
   "cell_type": "code",
   "execution_count": 22,
   "id": "04b01806-1697-4ba7-a107-65f2f190392a",
   "metadata": {
    "tags": []
   },
   "outputs": [
    {
     "name": "stdout",
     "output_type": "stream",
     "text": [
      "13 config13_rheobase_0.1\n",
      "10 config10_rheobase_0.7\n",
      "31 config31_rheo0.98\n",
      "23 config23_rheo0.99\n",
      "8 config8_rheobase_1\n",
      "32 config32_rheo1\n",
      "24 config24_rheo1.01\n",
      "25 config25_rheo1.02\n",
      "33 config33_rheo1.1\n",
      "22 config22_rheobase_2\n"
     ]
    }
   ],
   "source": [
    "out_df_dict = {}\n",
    "for c in good_configs:\n",
    "    full_config_name = dirlist[[f\"config{c}\" == x.split('_')[0] or f\"config{c}\" == x.split('_')[1] for x in dirlist].index(True)]\n",
    "    print(c, full_config_name)\n",
    "    out_df_dict[c] = [pd.read_csv(path/full_config_name/'metrics.csv', skiprows=1)]\n",
    "    out_df_dict[c].append(parse_config_file(path/full_config_name/f'{full_config_name}.txt'))"
   ]
  },
  {
   "cell_type": "code",
   "execution_count": 23,
   "id": "55e58018-6690-4da6-94b0-743fce9f4672",
   "metadata": {
    "tags": []
   },
   "outputs": [
    {
     "data": {
      "image/png": "[encoded data removed]",
      "text/plain": [
       "<Figure size 640x480 with 1 Axes>"
      ]
     },
     "metadata": {},
     "output_type": "display_data"
    }
   ],
   "source": [
    "for df in out_df_dict.values():\n",
    "    df = df[0]\n",
    "    plt.plot(list(df['Training Loss']))\n",
    "plt.legend(good_configs)\n",
    "# plt.xlim([0,10])\n",
    "plt.show()"
   ]
  },
  {
   "cell_type": "code",
   "execution_count": 24,
   "id": "17dda202-89f3-454d-974b-66ebb9b1d462",
   "metadata": {
    "tags": []
   },
   "outputs": [
    {
     "data": {
      "image/png": "[encoded data removed]",
      "text/plain": [
       "<Figure size 640x480 with 1 Axes>"
      ]
     },
     "metadata": {},
     "output_type": "display_data"
    }
   ],
   "source": [
    "x_vals = [x for x in range(len(good_configs))]\n",
    "y_vals = [out_df_dict[x][1]['optimiser_learning_rate'] for x in good_configs]\n",
    "for i in range(len(good_configs)):\n",
    "    plt.scatter(i, out_df_dict[good_configs[i]][1]['optimiser_learning_rate'])\n",
    "# plt.scatter(x_vals, y_vals)\n",
    "plt.legend(good_configs)\n",
    "plt.show()"
   ]
  },
  {
   "cell_type": "code",
   "execution_count": null,
   "id": "8acee8a2-aa34-44dc-8897-4553d279bedf",
   "metadata": {},
   "outputs": [],
   "source": []
  }
 ],
 "metadata": {
  "kernelspec": {
   "display_name": "Python [conda env:jh_snntorch]",
   "language": "python",
   "name": "conda-env-jh_snntorch-py"
  },
  "language_info": {
   "codemirror_mode": {
    "name": "ipython",
    "version": 3
   },
   "file_extension": ".py",
   "mimetype": "text/x-python",
   "name": "python",
   "nbconvert_exporter": "python",
   "pygments_lexer": "ipython3",
   "version": "3.11.7"
  }
 },
 "nbformat": 4,
 "nbformat_minor": 5
}
