{
 "cells": [
  {
   "cell_type": "markdown",
   "id": "88de88b9-f303-4196-8056-b5fb844d46e4",
   "metadata": {},
   "source": [
    "## Training SNNs on temporal sequence MNIST data using Friedemann Zenke's network formulation (spytorch)"
   ]
  },
  {
   "cell_type": "code",
   "execution_count": 2,
   "id": "6171cc18-ae73-42d2-9f29-125cbcee0a2e",
   "metadata": {
    "tags": []
   },
   "outputs": [
    {
     "name": "stderr",
     "output_type": "stream",
     "text": [
      "Matplotlib created a temporary config/cache directory at /tmp/matplotlib-u_81fl0s because the default path (/home/jupyter-ikharitonov/.cache/matplotlib) is not a writable directory; it is highly recommended to set the MPLCONFIGDIR environment variable to a writable directory, in particular to speed up the import of Matplotlib and to better support multiprocessing.\n"
     ]
    },
    {
     "ename": "ModuleNotFoundError",
     "evalue": "No module named 'torch'",
     "output_type": "error",
     "traceback": [
      "\u001b[0;31m---------------------------------------------------------------------------\u001b[0m",
      "\u001b[0;31mModuleNotFoundError\u001b[0m                       Traceback (most recent call last)",
      "\u001b[0;32m/tmp/ipykernel_195414/943268209.py\u001b[0m in \u001b[0;36m<module>\u001b[0;34m\u001b[0m\n\u001b[1;32m      2\u001b[0m \u001b[0;32mimport\u001b[0m \u001b[0mmatplotlib\u001b[0m\u001b[0;34m.\u001b[0m\u001b[0mpyplot\u001b[0m \u001b[0;32mas\u001b[0m \u001b[0mplt\u001b[0m\u001b[0;34m\u001b[0m\u001b[0;34m\u001b[0m\u001b[0m\n\u001b[1;32m      3\u001b[0m \u001b[0;32mimport\u001b[0m \u001b[0mmatplotlib\u001b[0m\u001b[0;34m.\u001b[0m\u001b[0manimation\u001b[0m\u001b[0;34m\u001b[0m\u001b[0;34m\u001b[0m\u001b[0m\n\u001b[0;32m----> 4\u001b[0;31m \u001b[0;32mimport\u001b[0m \u001b[0mtorch\u001b[0m\u001b[0;34m\u001b[0m\u001b[0;34m\u001b[0m\u001b[0m\n\u001b[0m\u001b[1;32m      5\u001b[0m \u001b[0;32mfrom\u001b[0m \u001b[0mpathlib\u001b[0m \u001b[0;32mimport\u001b[0m \u001b[0mPath\u001b[0m\u001b[0;34m\u001b[0m\u001b[0;34m\u001b[0m\u001b[0m\n\u001b[1;32m      6\u001b[0m \u001b[0;32mfrom\u001b[0m \u001b[0mmodel\u001b[0m \u001b[0;32mimport\u001b[0m \u001b[0mSNNModel\u001b[0m\u001b[0;34m\u001b[0m\u001b[0;34m\u001b[0m\u001b[0m\n",
      "\u001b[0;31mModuleNotFoundError\u001b[0m: No module named 'torch'"
     ]
    }
   ],
   "source": [
    "import numpy as np\n",
    "import matplotlib.pyplot as plt\n",
    "import matplotlib.animation\n",
    "import torch\n",
    "from pathlib import Path\n",
    "from model_spytorch import SNNModel"
   ]
  },
  {
   "cell_type": "code",
   "execution_count": null,
   "id": "925bea32-a15c-4049-a18b-afbec5f2e82b",
   "metadata": {
    "tags": []
   },
   "outputs": [],
   "source": [
    "data = np.load(Path.home()/'RANCZLAB-NAS/iakov/data/mnist_sequences.npy')"
   ]
  },
  {
   "cell_type": "code",
   "execution_count": null,
   "id": "21672f1a-97c2-4cc3-8830-1089040d0aa4",
   "metadata": {
    "tags": []
   },
   "outputs": [],
   "source": [
    "data = data.reshape((data.shape[0], data.shape[1], data.shape[2]*data.shape[3]))\n",
    "data = torch.Tensor(data)"
   ]
  },
  {
   "cell_type": "code",
   "execution_count": null,
   "id": "18b5a80f-969c-4779-b841-a05f0020f28f",
   "metadata": {},
   "outputs": [],
   "source": [
    "# preprocessing\n",
    "data = data[torch.randperm(data.shape[0])] # row shuffling\n",
    "data /= 255 # 0-1 normalisation\n",
    "data *= 0.5 # scaling down by 1/2"
   ]
  },
  {
   "cell_type": "code",
   "execution_count": null,
   "id": "a44c67d5-c794-4189-9bae-b828ea2e4715",
   "metadata": {
    "tags": []
   },
   "outputs": [],
   "source": [
    "data.shape"
   ]
  },
  {
   "cell_type": "code",
   "execution_count": null,
   "id": "bf311944-eb4b-4b9a-8599-45a47f3848ad",
   "metadata": {},
   "outputs": [],
   "source": [
    "model = SNNModel(batch_size = 100, hidden_units = data.shape[2], num_timesteps = data.shape[1], step_length = 1/data.shape[1], device = torch.device('cuda'), dtype = torch.float)"
   ]
  },
  {
   "cell_type": "code",
   "execution_count": null,
   "id": "7e5ac309-ce39-4c43-aa8e-aa673807e3c3",
   "metadata": {
    "tags": []
   },
   "outputs": [],
   "source": [
    "model.init_parameters()"
   ]
  },
  {
   "cell_type": "code",
   "execution_count": null,
   "id": "af49d3d6-5579-4304-a895-0306a5b894e9",
   "metadata": {
    "tags": []
   },
   "outputs": [],
   "source": [
    "save_weights_path = Path.home() / 'RANCZLAB-NAS/iakov/v1_weights_31_jan'"
   ]
  },
  {
   "cell_type": "code",
   "execution_count": null,
   "id": "10bd4502-a177-4fdd-b2cf-110d84efac95",
   "metadata": {
    "tags": []
   },
   "outputs": [],
   "source": [
    "losses = model.train(data, lr = 0.1, num_epochs = 100, save_weights_path = save_weights_path)"
   ]
  },
  {
   "cell_type": "code",
   "execution_count": null,
   "id": "e815ea9a-b016-4f59-8638-baf8596bdc2f",
   "metadata": {
    "tags": []
   },
   "outputs": [],
   "source": [
    "np.save(save_weights_path/'losses.npy', losses)"
   ]
  },
  {
   "cell_type": "code",
   "execution_count": null,
   "id": "9dbede90-338d-45aa-b09c-b32e88af90f2",
   "metadata": {
    "tags": []
   },
   "outputs": [],
   "source": [
    "plt.figure()\n",
    "plt.plot(losses)\n",
    "plt.show()"
   ]
  },
  {
   "cell_type": "code",
   "execution_count": null,
   "id": "4aa095ba-8043-48bd-9def-7eb55c7b2c3a",
   "metadata": {
    "tags": []
   },
   "outputs": [],
   "source": [
    "plt.figure(figsize=(15,15))\n",
    "plt.imshow(model.v1.detach().cpu().numpy())"
   ]
  },
  {
   "cell_type": "code",
   "execution_count": null,
   "id": "59731efa-b711-47fd-a78d-5125b57fcb57",
   "metadata": {
    "tags": []
   },
   "outputs": [],
   "source": [
    "# TEST\n",
    "mem_rec, spk_rec = model.run_snn(data[:100].cuda())"
   ]
  },
  {
   "cell_type": "code",
   "execution_count": null,
   "id": "ccba60b6-2562-4026-884f-7972f59b5560",
   "metadata": {
    "tags": []
   },
   "outputs": [],
   "source": [
    "mem_rec.shape"
   ]
  },
  {
   "cell_type": "code",
   "execution_count": null,
   "id": "cd2d2997-5894-40b1-ac48-f2981f812357",
   "metadata": {
    "tags": []
   },
   "outputs": [],
   "source": [
    "plt.imshow(spk_rec.reshape((100,210,28,28)).detach().cpu().numpy()[0,52,:,:])"
   ]
  },
  {
   "cell_type": "code",
   "execution_count": null,
   "id": "d5e0114e-3bec-450a-844c-a7caf9186d15",
   "metadata": {
    "tags": []
   },
   "outputs": [],
   "source": [
    "# Animation takes long time to load\n",
    "plt.rcParams[\"animation.html\"] = \"jshtml\"\n",
    "plt.rcParams['figure.dpi'] = 150  \n",
    "plt.ioff()\n",
    "\n",
    "fig, ax = plt.subplots(nrows=1,ncols=3)\n",
    "\n",
    "def animate(t):\n",
    "    plt.cla()\n",
    "    ax[0].set_title(f'Frame {t}: input', fontsize=5)\n",
    "    ax[0].imshow(data[:100,:,:].reshape((100,210,28,28)).detach().cpu().numpy()[0,t,:,:])\n",
    "    ax[1].set_title(f'Frame {t}: membrane voltage', fontsize=5)\n",
    "    ax[1].imshow(mem_rec.reshape((100,210,28,28)).detach().cpu().numpy()[0,t,:,:])\n",
    "    ax[2].set_title(f'Frame {t}: unit spiking', fontsize=5)\n",
    "    ax[2].imshow(spk_rec.reshape((100,210,28,28)).detach().cpu().numpy()[0,t,:,:])\n",
    "\n",
    "matplotlib.animation.FuncAnimation(fig, animate, frames=210)"
   ]
  }
 ],
 "metadata": {
  "kernelspec": {
   "display_name": "Python [conda env:jh_allendata]",
   "language": "python",
   "name": "conda-env-jh_allendata-py"
  },
  "language_info": {
   "codemirror_mode": {
    "name": "ipython",
    "version": 3
   },
   "file_extension": ".py",
   "mimetype": "text/x-python",
   "name": "python",
   "nbconvert_exporter": "python",
   "pygments_lexer": "ipython3",
   "version": "3.7.15"
  }
 },
 "nbformat": 4,
 "nbformat_minor": 5
}
