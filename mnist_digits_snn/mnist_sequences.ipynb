{
 "cells": [
  {
   "cell_type": "markdown",
   "id": "cade38b8-6fa5-4c67-a2fd-d84b44387299",
   "metadata": {
    "tags": []
   },
   "source": [
    "## Creating temporal sequences (network input) out of static MNIST images"
   ]
  },
  {
   "cell_type": "code",
   "execution_count": 1,
   "id": "d5987de1-66bf-4940-883c-8f2244e64a55",
   "metadata": {
    "tags": []
   },
   "outputs": [
    {
     "name": "stderr",
     "output_type": "stream",
     "text": [
      "Matplotlib created a temporary cache directory at /tmp/matplotlib-u49wds0v because the default path (/home/jupyter-ikharitonov/.cache/matplotlib) is not a writable directory; it is highly recommended to set the MPLCONFIGDIR environment variable to a writable directory, in particular to speed up the import of Matplotlib and to better support multiprocessing.\n"
     ]
    }
   ],
   "source": [
    "import numpy as np\n",
    "from pathlib import Path\n",
    "import pandas as pd\n",
    "import matplotlib.pyplot as plt\n",
    "from tqdm import tqdm"
   ]
  },
  {
   "cell_type": "code",
   "execution_count": 2,
   "id": "ad5a43a6-9c99-4648-b4be-750a5837a47d",
   "metadata": {
    "tags": []
   },
   "outputs": [],
   "source": [
    "path = Path.home() / 'RANCZLAB-NAS/iakov/data/mnist'\n",
    "\n",
    "# mnist_trainset = datasets.MNIST(root=path, train=True, download=False, transform=None)\n",
    "# mnist_testset = datasets.MNIST(root=path, train=False, download=False, transform=None)"
   ]
  },
  {
   "cell_type": "code",
   "execution_count": 3,
   "id": "4c09e522-1d8b-42b4-a3be-5a39779c32b5",
   "metadata": {},
   "outputs": [],
   "source": [
    "column_names = ['labels']+[i for i in range(28*28)]\n",
    "train_df = pd.read_csv(path/'mnist_train.csv', names = column_names)\n",
    "test_df = pd.read_csv(path/'mnist_test.csv', names = column_names)"
   ]
  },
  {
   "cell_type": "code",
   "execution_count": 4,
   "id": "7e78c2a3-9dd2-45b2-bb63-5e1fd440f2e7",
   "metadata": {
    "tags": []
   },
   "outputs": [
    {
     "data": {
      "text/plain": [
       "<matplotlib.image.AxesImage at 0x7f2e789ce790>"
      ]
     },
     "execution_count": 4,
     "metadata": {},
     "output_type": "execute_result"
    },
    {
     "data": {
      "image/png": "[encoded data removed]",
      "text/plain": [
       "<Figure size 640x480 with 1 Axes>"
      ]
     },
     "metadata": {},
     "output_type": "display_data"
    }
   ],
   "source": [
    "plt.imshow(train_df.iloc[5].to_numpy()[1:].reshape((28,28)))"
   ]
  },
  {
   "cell_type": "code",
   "execution_count": 5,
   "id": "19e4065a-5a56-4549-8af0-c79ac51f7760",
   "metadata": {
    "tags": []
   },
   "outputs": [],
   "source": [
    "digit_duration = 0.5 # seconds\n",
    "# in_between_digit_period = 0.12 # seconds\n",
    "in_between_digit_period = 0.5 # seconds\n",
    "number_of_digits = 10\n",
    "sampling_freq = 250 # Hz\n",
    "\n",
    "total_time = number_of_digits * digit_duration + (number_of_digits + 1) * in_between_digit_period\n",
    "t = np.linspace(0, total_time, int(total_time*sampling_freq))"
   ]
  },
  {
   "cell_type": "code",
   "execution_count": 6,
   "id": "dadc4a3c-daca-4eef-8adb-363748e960db",
   "metadata": {
    "tags": []
   },
   "outputs": [
    {
     "name": "stdout",
     "output_type": "stream",
     "text": [
      "(2625,)\n"
     ]
    }
   ],
   "source": [
    "print(t.shape)"
   ]
  },
  {
   "cell_type": "code",
   "execution_count": 7,
   "id": "dcc8df54-9d62-4ba5-86d4-603e2781a3e0",
   "metadata": {
    "tags": []
   },
   "outputs": [
    {
     "data": {
      "text/plain": [
       "(60000, 785)"
      ]
     },
     "execution_count": 7,
     "metadata": {},
     "output_type": "execute_result"
    }
   ],
   "source": [
    "df_arr = train_df.to_numpy()\n",
    "df_arr.shape"
   ]
  },
  {
   "cell_type": "code",
   "execution_count": 8,
   "id": "6bbd1e77-7ffe-4271-8472-3fdcaae930f5",
   "metadata": {
    "tags": []
   },
   "outputs": [],
   "source": [
    "# 8 bit conversion of 0-255 arrays\n",
    "def convert_8bit(arr):\n",
    "    # return (arr - 128).astype(np.int8)\n",
    "    return arr.astype(np.uint8)"
   ]
  },
  {
   "cell_type": "code",
   "execution_count": 9,
   "id": "c2ddf931-5799-4dcf-be89-8e648b741bcb",
   "metadata": {
    "tags": []
   },
   "outputs": [
    {
     "data": {
      "text/plain": [
       "(785,)"
      ]
     },
     "execution_count": 9,
     "metadata": {},
     "output_type": "execute_result"
    }
   ],
   "source": [
    "df_arr[0].shape"
   ]
  },
  {
   "cell_type": "code",
   "execution_count": 10,
   "id": "699f83b1-af76-4aeb-9ad0-9a4fbdfe9c82",
   "metadata": {
    "tags": []
   },
   "outputs": [],
   "source": [
    "digits = {k:[] for k in range(10)}\n",
    "\n",
    "for i in range(df_arr.shape[0]):\n",
    "    digits[df_arr[i,0]].append(convert_8bit(df_arr[i,1:].reshape((28,28))))\n",
    "    \n",
    "digits = {k:np.array(v) for k,v in digits.items()}"
   ]
  },
  {
   "cell_type": "code",
   "execution_count": 11,
   "id": "e23cf89d-5a2e-414a-9fff-88f73be710fc",
   "metadata": {
    "tags": []
   },
   "outputs": [
    {
     "data": {
      "text/plain": [
       "<matplotlib.image.AxesImage at 0x7f2e782c0450>"
      ]
     },
     "execution_count": 11,
     "metadata": {},
     "output_type": "execute_result"
    },
    {
     "data": {
      "image/png": "[encoded data removed]",
      "text/plain": [
       "<Figure size 640x480 with 1 Axes>"
      ]
     },
     "metadata": {},
     "output_type": "display_data"
    }
   ],
   "source": [
    "plt.imshow(digits[4][5])"
   ]
  },
  {
   "cell_type": "code",
   "execution_count": 12,
   "id": "f96c8a3e-fddf-446d-bdf6-4d262e7e5d8c",
   "metadata": {
    "tags": []
   },
   "outputs": [
    {
     "name": "stdout",
     "output_type": "stream",
     "text": [
      "[5923, 6742, 5958, 6131, 5842, 5421, 5918, 6265, 5851, 5949]\n",
      "Minimum number of unique digits = 5421\n"
     ]
    }
   ],
   "source": [
    "l = []\n",
    "for k in digits.keys():\n",
    "    l.append(digits[k].shape[0])\n",
    "print(l)\n",
    "min_seqs = min(l)\n",
    "print('Minimum number of unique digits =', min_seqs)"
   ]
  },
  {
   "cell_type": "code",
   "execution_count": 13,
   "id": "4cedf99a-484d-473a-b10a-a9c16eba216a",
   "metadata": {
    "tags": []
   },
   "outputs": [],
   "source": [
    "min_seqs = 750\n",
    "# min_seqs = 1"
   ]
  },
  {
   "cell_type": "code",
   "execution_count": 14,
   "id": "7e0b3b68-c1cf-4b86-ab2b-8450f0c96307",
   "metadata": {
    "tags": []
   },
   "outputs": [],
   "source": [
    "def get_next_ind(current_ind):\n",
    "    if current_ind < 9:\n",
    "        next_ind = current_ind + 1\n",
    "    elif current_ind == 9:\n",
    "        next_ind = 0\n",
    "    return next_ind"
   ]
  },
  {
   "cell_type": "code",
   "execution_count": 15,
   "id": "0c243c2a-ba44-448a-8b3d-9f21577941b1",
   "metadata": {
    "tags": []
   },
   "outputs": [
    {
     "name": "stderr",
     "output_type": "stream",
     "text": [
      "100%|██████████| 10/10 [00:17<00:00,  1.75s/it]\n"
     ]
    }
   ],
   "source": [
    "sequences = []\n",
    "target_1to1_sequences = []\n",
    "target_predictive_sequences = []\n",
    "for starting_digit in tqdm(range(10)): # loop of starting digits\n",
    "    for unique_seq_i in range(min_seqs): # loop of unique digit repetitions\n",
    "        \n",
    "        new_sequence = np.zeros((t.shape[0], 28, 28)).astype(np.uint8)\n",
    "        new__1to1_sequence = np.zeros((t.shape[0], 10)).astype(np.uint8)\n",
    "        new_predictive_sequence = np.zeros((t.shape[0], 10)).astype(np.uint8)\n",
    "\n",
    "        ind = starting_digit\n",
    "        time_ind = 0\n",
    "        \n",
    "        for seq_i in range(10): # inner sequence loop\n",
    "            time_ind += in_between_digit_period * sampling_freq\n",
    "            new_digit = digits[ind][unique_seq_i]\n",
    "            a = int(time_ind)\n",
    "            b = int(time_ind+digit_duration*sampling_freq)\n",
    "            new_sequence[a:b, :, :] = new_digit\n",
    "            new__1to1_sequence[a:b, ind] = 1\n",
    "            aa = int(a - in_between_digit_period * sampling_freq)\n",
    "            bb = int(time_ind)\n",
    "            new_predictive_sequence[aa:bb, ind] = 1\n",
    "            \n",
    "            time_ind += digit_duration * sampling_freq\n",
    "            ind = get_next_ind(ind)\n",
    "        sequences.append(new_sequence)\n",
    "        target_1to1_sequences.append(new__1to1_sequence)\n",
    "        target_predictive_sequences.append(new_predictive_sequence)\n",
    "sequences = np.array(sequences)\n",
    "target_1to1_sequences = np.array(target_1to1_sequences)\n",
    "target_predictive_sequences = np.array(target_predictive_sequences)"
   ]
  },
  {
   "cell_type": "code",
   "execution_count": 16,
   "id": "221095bd-f365-44fd-a24c-595245dba6b9",
   "metadata": {
    "tags": []
   },
   "outputs": [
    {
     "data": {
      "text/plain": [
       "(7500, 2625, 28, 28)"
      ]
     },
     "execution_count": 16,
     "metadata": {},
     "output_type": "execute_result"
    }
   ],
   "source": [
    "sequences.shape"
   ]
  },
  {
   "cell_type": "code",
   "execution_count": 17,
   "id": "53efba27-111d-40eb-bce2-341305fa2c8f",
   "metadata": {
    "tags": []
   },
   "outputs": [],
   "source": [
    "# # seq_inds = [0,999,1000,1999,2000,2999,3000,3999,4000,4999,5000,5999,6000,6999,7000,7999,8000,8999,9000,9999]\n",
    "\n",
    "# for seq_i in seq_inds:\n",
    "#     times = [i for i in range(10,sequences.shape[1],20)]\n",
    "#     fig,ax = plt.subplots(nrows=1,ncols=10)\n",
    "#     for i,tim in enumerate(times):\n",
    "#         ax[i].imshow(sequences[seq_i][tim], vmin=-128, vmax=127)\n",
    "#     plt.show()"
   ]
  },
  {
   "cell_type": "code",
   "execution_count": 18,
   "id": "435bc5c8-3e5a-495f-b7d4-6cf0a4488c7b",
   "metadata": {
    "tags": []
   },
   "outputs": [],
   "source": [
    "np.save(Path.home()/f'RANCZLAB-NAS/iakov/produced/mnist_sequences_{sampling_freq}hz.npy', sequences)\n",
    "# np.save(Path.home()/f'RANCZLAB-NAS/iakov/produced/mnist_sequences_{sampling_freq}hz_{in_between_digit_period}sec_pause.npy', sequences)\n",
    "# np.save(Path.home()/f'RANCZLAB-NAS/iakov/produced/mnist_sequences_{sampling_freq}hz_single_seq.npy', sequences[:1])\n",
    "\n",
    "np.save(Path.home()/f'RANCZLAB-NAS/iakov/produced/mnist_sequences_{sampling_freq}hz_1to1_targets.npy', target_1to1_sequences)\n",
    "np.save(Path.home()/f'RANCZLAB-NAS/iakov/produced/mnist_sequences_{sampling_freq}hz_predictive_targets.npy', target_predictive_sequences)"
   ]
  },
  {
   "cell_type": "code",
   "execution_count": null,
   "id": "a1405937-a79f-492b-994d-cba399f6ed0c",
   "metadata": {},
   "outputs": [],
   "source": []
  },
  {
   "cell_type": "markdown",
   "id": "9817dfe3-be87-46a5-9348-ba5dc9cf3526",
   "metadata": {},
   "source": [
    "## Simpler sequence"
   ]
  },
  {
   "cell_type": "code",
   "execution_count": 18,
   "id": "c7944063-5505-4363-b3b6-2e5155cfa4e5",
   "metadata": {
    "tags": []
   },
   "outputs": [
    {
     "data": {
      "text/plain": [
       "(1, 1250, 28, 28)"
      ]
     },
     "execution_count": 18,
     "metadata": {},
     "output_type": "execute_result"
    }
   ],
   "source": [
    "# simple_sequence = [np.zeros((28,28))]\n",
    "# for i in [1,3,5,7,9,11,13,15,17,19]:\n",
    "#     plt.imshow(sequences[0,125*i,:,:])\n",
    "#     plt.show()\n",
    "#     simple_sequence.append(sequences[0,125*i,:,:])\n",
    "#     simple_sequence.append(np.zeros((28,28)))\n",
    "# simple_sequence = np.array(simple_sequence)\n",
    "# simple_sequence = simple_sequence.reshape(1,simple_sequence.shape[0],simple_sequence.shape[1],simple_sequence.shape[2])\n",
    "# simple_sequence.shape\n",
    "\n",
    "\n",
    "simple_sequence = []\n",
    "length = 125\n",
    "for i in [1,3,5,7,9,11,13,15,17,19]:\n",
    "    # plt.imshow(sequences[0,125*i,:,:])\n",
    "    # plt.show()\n",
    "    for _ in range(length):\n",
    "        simple_sequence.append(sequences[0,125*i,:,:])\n",
    "    # simple_sequence.append(np.zeros((28,28)))\n",
    "simple_sequence = np.array(simple_sequence)\n",
    "simple_sequence = simple_sequence.reshape(1,simple_sequence.shape[0],simple_sequence.shape[1],simple_sequence.shape[2])\n",
    "simple_sequence.shape"
   ]
  },
  {
   "cell_type": "code",
   "execution_count": 40,
   "id": "0d43b7ad-87bc-4512-adcc-0d584e599939",
   "metadata": {
    "tags": []
   },
   "outputs": [],
   "source": [
    "np.save(Path.home()/f'RANCZLAB-NAS/iakov/produced/mnist_simplest_sequence.npy', simple_sequence)"
   ]
  },
  {
   "cell_type": "code",
   "execution_count": null,
   "id": "3636268e-f9bd-4dd8-9bf6-65bb7a04106c",
   "metadata": {},
   "outputs": [],
   "source": []
  },
  {
   "cell_type": "markdown",
   "id": "5ea6e453-128a-459f-90cb-827b52011dd2",
   "metadata": {},
   "source": [
    "## Two digit sequence"
   ]
  },
  {
   "cell_type": "code",
   "execution_count": 23,
   "id": "619810ac-a67c-4b2e-b21a-568ff70600e7",
   "metadata": {
    "tags": []
   },
   "outputs": [
    {
     "data": {
      "image/png": "[encoded data removed]",
      "text/plain": [
       "<Figure size 640x480 with 1 Axes>"
      ]
     },
     "metadata": {},
     "output_type": "display_data"
    }
   ],
   "source": [
    "plt.imshow(sequences[0,125,:,:])\n",
    "plt.show()"
   ]
  },
  {
   "cell_type": "code",
   "execution_count": 25,
   "id": "291918c0-eec9-41c7-b1c7-1cbe5c4c53f6",
   "metadata": {
    "tags": []
   },
   "outputs": [
    {
     "data": {
      "image/png": "[encoded data removed]",
      "text/plain": [
       "<Figure size 640x480 with 1 Axes>"
      ]
     },
     "metadata": {},
     "output_type": "display_data"
    }
   ],
   "source": [
    "plt.imshow(sequences[0,3*125,:,:])\n",
    "plt.show()"
   ]
  },
  {
   "cell_type": "code",
   "execution_count": 26,
   "id": "cd1c953d-223f-4d6f-ba6c-a3a7785e0789",
   "metadata": {
    "tags": []
   },
   "outputs": [],
   "source": [
    "two_digit_sequence = np.zeros((1,125+125,28,28))"
   ]
  },
  {
   "cell_type": "code",
   "execution_count": 28,
   "id": "a36b0dd3-e0e6-4658-b79d-2e6ff121b935",
   "metadata": {
    "tags": []
   },
   "outputs": [],
   "source": [
    "two_digit_sequence[0,:125,:,:] = sequences[0,125,:,:]\n",
    "two_digit_sequence[0,125:,:,:] = sequences[0,3*125,:,:]"
   ]
  },
  {
   "cell_type": "code",
   "execution_count": 29,
   "id": "b6c5f3dd-0b90-496b-bcfa-dad5296e60a0",
   "metadata": {
    "tags": []
   },
   "outputs": [],
   "source": [
    "np.save(Path.home()/f'RANCZLAB-NAS/iakov/produced/mnist_two_digit_sequence.npy', two_digit_sequence)"
   ]
  },
  {
   "cell_type": "code",
   "execution_count": null,
   "id": "75f69a73-c812-43a5-8d7f-abc964ed7ee4",
   "metadata": {},
   "outputs": [],
   "source": []
  }
 ],
 "metadata": {
  "kernelspec": {
   "display_name": "Python [conda env:jh_torch]",
   "language": "python",
   "name": "conda-env-jh_torch-py"
  },
  "language_info": {
   "codemirror_mode": {
    "name": "ipython",
    "version": 3
   },
   "file_extension": ".py",
   "mimetype": "text/x-python",
   "name": "python",
   "nbconvert_exporter": "python",
   "pygments_lexer": "ipython3",
   "version": "3.11.6"
  }
 },
 "nbformat": 4,
 "nbformat_minor": 5
}
