{
 "cells": [
  {
   "cell_type": "code",
   "execution_count": 1,
   "id": "d5987de1-66bf-4940-883c-8f2244e64a55",
   "metadata": {
    "tags": []
   },
   "outputs": [],
   "source": [
    "import numpy as np\n",
    "from pathlib import Path\n",
    "\n",
    "import torchvision.datasets as datasets"
   ]
  },
  {
   "cell_type": "code",
   "execution_count": 2,
   "id": "ad5a43a6-9c99-4648-b4be-750a5837a47d",
   "metadata": {
    "tags": []
   },
   "outputs": [],
   "source": [
    "path = Path.home() / 'RANCZLAB-NAS/iakov/data'\n",
    "\n",
    "mnist_trainset = datasets.MNIST(root=path, train=True, download=False, transform=None)\n",
    "mnist_testset = datasets.MNIST(root=path, train=False, download=False, transform=None)"
   ]
  },
  {
   "cell_type": "code",
   "execution_count": 3,
   "id": "2f1c6fa6-50a2-4937-8696-571b41b8e3ce",
   "metadata": {
    "tags": []
   },
   "outputs": [
    {
     "data": {
      "text/plain": [
       "Dataset MNIST\n",
       "    Number of datapoints: 60000\n",
       "    Root location: /home/jupyter-ikharitonov/RANCZLAB-NAS/iakov/data\n",
       "    Split: Train"
      ]
     },
     "execution_count": 3,
     "metadata": {},
     "output_type": "execute_result"
    }
   ],
   "source": [
    "mnist_trainset."
   ]
  },
  {
   "cell_type": "code",
   "execution_count": null,
   "id": "4c09e522-1d8b-42b4-a3be-5a39779c32b5",
   "metadata": {},
   "outputs": [],
   "source": []
  }
 ],
 "metadata": {
  "kernelspec": {
   "display_name": "Python [conda env:jh_torch]",
   "language": "python",
   "name": "conda-env-jh_torch-py"
  },
  "language_info": {
   "codemirror_mode": {
    "name": "ipython",
    "version": 3
   },
   "file_extension": ".py",
   "mimetype": "text/x-python",
   "name": "python",
   "nbconvert_exporter": "python",
   "pygments_lexer": "ipython3",
   "version": "3.11.6"
  }
 },
 "nbformat": 4,
 "nbformat_minor": 5
}
