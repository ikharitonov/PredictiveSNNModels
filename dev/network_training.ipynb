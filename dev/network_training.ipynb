{
 "cells": [
  {
   "cell_type": "code",
   "execution_count": 19,
   "id": "56c6f50b-d4ca-438b-b1c1-0280f14a4cff",
   "metadata": {
    "tags": []
   },
   "outputs": [],
   "source": [
    "import torch\n",
    "import torch.nn as nn\n",
    "import numpy as np\n",
    "import matplotlib.pyplot as plt"
   ]
  },
  {
   "cell_type": "code",
   "execution_count": 20,
   "id": "8e7c1738-b943-479e-aa4c-3412f672e3b8",
   "metadata": {},
   "outputs": [],
   "source": [
    "compute_device = torch.device('cuda')"
   ]
  },
  {
   "cell_type": "code",
   "execution_count": null,
   "id": "516eaf54-37da-48ff-ae11-21477ac626ee",
   "metadata": {},
   "outputs": [],
   "source": []
  },
  {
   "cell_type": "code",
   "execution_count": null,
   "id": "c95dd9d4-da41-4769-947e-8b09ab6d8dfe",
   "metadata": {},
   "outputs": [],
   "source": []
  },
  {
   "cell_type": "code",
   "execution_count": 21,
   "id": "6412c6a0-e51b-43ba-bba3-7f13873c897a",
   "metadata": {
    "tags": []
   },
   "outputs": [
    {
     "data": {
      "text/plain": [
       "tensor([1., 2.], device='cuda:0')"
      ]
     },
     "execution_count": 21,
     "metadata": {},
     "output_type": "execute_result"
    }
   ],
   "source": [
    "torch.Tensor([1,2]).to(compute_device)"
   ]
  },
  {
   "cell_type": "code",
   "execution_count": 22,
   "id": "c454c2f3-1623-478c-b743-652844dea95d",
   "metadata": {},
   "outputs": [],
   "source": [
    "class FullyConnectedRNN(nn.Module):\n",
    "    def __init__(self, hidden_units, input_units = 2):\n",
    "        super(FullyConnectedRNN, self).__init__()\n",
    "        \n",
    "        self.parameter_list = nn.ParameterList()\n",
    "        \n",
    "        self.hidden_units = hidden_units\n",
    "        self.input_units = input_units\n",
    "        \n",
    "        self.W = nn.Parameter(torch.randn(self.hidden_units, self.hidden_units)).to(compute_device)\n",
    "        self.Win = nn.Parameter(torch.randn(self.input_units, self.hidden_units)).to(compute_device)\n",
    "        \n",
    "        self.relu = nn.ReLU()\n",
    "        \n",
    "        self.parameter_list.append(self.W)\n",
    "    \n",
    "    def init_hidden_state(self):\n",
    "        self.hidden_state = torch.zeros(self.hidden_units).to(compute_device)\n",
    "    \n",
    "    def forward(self, x):\n",
    "        \n",
    "        # solution 1: architectural - input-segregated populatons\n",
    "        input_matrix = torch.ones(self.hidden_units).to(compute_device)\n",
    "        input_matrix[:self.hidden_units//2] *= x[0]\n",
    "        input_matrix[self.hidden_units//2:] *= x[1]\n",
    "        \n",
    "        # solution 2:\n",
    "        input_state = torch.Tensor(x).to(compute_device)\n",
    "        input_matrix = input_state @ self.Win\n",
    "               \n",
    "        preactivations = self.hidden_state @ self.W + input_matrix\n",
    "        self.hidden_state = self.relu(preactivations)\n",
    "        \n",
    "        return preactivations, self.hidden_state.detach(), self.W"
   ]
  },
  {
   "cell_type": "code",
   "execution_count": 23,
   "id": "5cfb6e07-7cad-41f5-a4d3-34530ffdc9f0",
   "metadata": {},
   "outputs": [],
   "source": [
    "# FUNCTIONS\n",
    "def generate_acceleration_and_velocity(samples, initial_velocity = 1):\n",
    "    \n",
    "    acceleration = np.around(np.random.normal(0,1, samples), 2)\n",
    "    \n",
    "    velocity = [initial_velocity]\n",
    "    const = 0.1\n",
    "    for i in range(acceleration.shape[0]):\n",
    "        velocity.append(velocity[-1] + const*acceleration[i])\n",
    "    \n",
    "    return acceleration, velocity\n",
    "\n",
    "def generate_variable_sine(samples, velocity):\n",
    "    def get_freq_per_sample(rad_angle, dt):\n",
    "        return 2 * np.pi * rad_angle * dt\n",
    "\n",
    "    t = np.linspace(0, 1, samples)\n",
    "    dt = t[1]-t[0]\n",
    "    y = list()\n",
    "    phi = 0\n",
    "    for i in range(t.shape[0]):\n",
    "        c = np.cos(phi)\n",
    "        y.append(c)\n",
    "        phi = phi + get_freq_per_sample(10*velocity[i], dt)\n",
    "    return t, y"
   ]
  },
  {
   "cell_type": "code",
   "execution_count": 24,
   "id": "f5d531a2-f6df-4d8d-b898-7875718ecbf4",
   "metadata": {
    "tags": []
   },
   "outputs": [],
   "source": [
    "def generate_inputs(samples):\n",
    "    acceleration, velocity = generate_acceleration_and_velocity(samples)\n",
    "    t, sine_signal = generate_variable_sine(samples, velocity)\n",
    "    return acceleration, sine_signal"
   ]
  },
  {
   "cell_type": "code",
   "execution_count": 25,
   "id": "6d77d38f-07fe-4a68-b0d5-02108975050f",
   "metadata": {},
   "outputs": [],
   "source": [
    "SAMPLE_NUM = 1000\n",
    "acceleration, velocity = generate_acceleration_and_velocity(SAMPLE_NUM)\n",
    "t, sine_signal = generate_variable_sine(SAMPLE_NUM, velocity)"
   ]
  },
  {
   "cell_type": "code",
   "execution_count": null,
   "id": "ac269980-8923-4cdd-84c7-a971ed7335f5",
   "metadata": {},
   "outputs": [],
   "source": []
  },
  {
   "cell_type": "markdown",
   "id": "28d53355-8e88-4da0-81c5-610e450f6d8f",
   "metadata": {},
   "source": [
    "### Training"
   ]
  },
  {
   "cell_type": "code",
   "execution_count": 26,
   "id": "d2f2308d-96b6-4049-9ae6-121732cefd54",
   "metadata": {
    "tags": []
   },
   "outputs": [
    {
     "data": {
      "text/plain": [
       "True"
      ]
     },
     "execution_count": 26,
     "metadata": {},
     "output_type": "execute_result"
    }
   ],
   "source": [
    "torch.cuda.is_available()"
   ]
  },
  {
   "cell_type": "code",
   "execution_count": 27,
   "id": "6ab7bdec-c0f7-4031-891d-2944dc5e2c69",
   "metadata": {},
   "outputs": [],
   "source": [
    "def L1_loss_function(x):\n",
    "    return torch.mean(torch.abs(x))"
   ]
  },
  {
   "cell_type": "code",
   "execution_count": 28,
   "id": "960125f3-25e4-4275-89be-febe5c7138e2",
   "metadata": {},
   "outputs": [],
   "source": [
    "model = FullyConnectedRNN(100)\n",
    "\n",
    "learning_rate = 0.00001\n",
    "optimizer = torch.optim.Adam(model.parameters(), lr=learning_rate)"
   ]
  },
  {
   "cell_type": "code",
   "execution_count": 37,
   "id": "8be11872-41d0-4d21-bb96-2e4b599d70e4",
   "metadata": {},
   "outputs": [
    {
     "name": "stdout",
     "output_type": "stream",
     "text": [
      "Epoch 1, Loss: nan\n",
      "Epoch 2, Loss: nan\n",
      "Epoch 3, Loss: nan\n",
      "Epoch 4, Loss: nan\n",
      "Epoch 5, Loss: nan\n",
      "Epoch 6, Loss: nan\n",
      "Epoch 7, Loss: nan\n",
      "Epoch 8, Loss: nan\n",
      "Epoch 9, Loss: nan\n",
      "Epoch 10, Loss: nan\n",
      "Epoch 11, Loss: nan\n",
      "Epoch 12, Loss: nan\n",
      "Epoch 13, Loss: nan\n",
      "Epoch 14, Loss: nan\n",
      "Epoch 15, Loss: nan\n",
      "Epoch 16, Loss: nan\n",
      "Epoch 17, Loss: nan\n",
      "Epoch 18, Loss: nan\n",
      "Epoch 19, Loss: nan\n",
      "Epoch 20, Loss: nan\n",
      "Epoch 21, Loss: nan\n",
      "Epoch 22, Loss: nan\n",
      "Epoch 23, Loss: nan\n",
      "Epoch 24, Loss: nan\n",
      "Epoch 25, Loss: nan\n",
      "Epoch 26, Loss: nan\n",
      "Epoch 27, Loss: nan\n",
      "Epoch 28, Loss: nan\n",
      "Epoch 29, Loss: nan\n",
      "Epoch 30, Loss: nan\n",
      "Epoch 31, Loss: nan\n",
      "Epoch 32, Loss: nan\n",
      "Epoch 33, Loss: nan\n",
      "Epoch 34, Loss: nan\n",
      "Epoch 35, Loss: nan\n",
      "Epoch 36, Loss: nan\n",
      "Epoch 37, Loss: nan\n",
      "Epoch 38, Loss: nan\n",
      "Epoch 39, Loss: nan\n",
      "Epoch 40, Loss: nan\n",
      "Epoch 41, Loss: nan\n",
      "Epoch 42, Loss: nan\n",
      "Epoch 43, Loss: nan\n",
      "Epoch 44, Loss: nan\n",
      "Epoch 45, Loss: nan\n",
      "Epoch 46, Loss: nan\n",
      "Epoch 47, Loss: nan\n",
      "Epoch 48, Loss: nan\n",
      "Epoch 49, Loss: nan\n",
      "Epoch 50, Loss: nan\n",
      "Epoch 51, Loss: nan\n",
      "Epoch 52, Loss: nan\n",
      "Epoch 53, Loss: nan\n",
      "Epoch 54, Loss: nan\n",
      "Epoch 55, Loss: nan\n",
      "Epoch 56, Loss: nan\n",
      "Epoch 57, Loss: nan\n",
      "Epoch 58, Loss: nan\n",
      "Epoch 59, Loss: nan\n",
      "Epoch 60, Loss: nan\n",
      "Epoch 61, Loss: nan\n",
      "Epoch 62, Loss: nan\n",
      "Epoch 63, Loss: nan\n",
      "Epoch 64, Loss: nan\n",
      "Epoch 65, Loss: nan\n",
      "Epoch 66, Loss: nan\n",
      "Epoch 67, Loss: nan\n",
      "Epoch 68, Loss: nan\n",
      "Epoch 69, Loss: nan\n",
      "Epoch 70, Loss: nan\n",
      "Epoch 71, Loss: nan\n",
      "Epoch 72, Loss: nan\n",
      "Epoch 73, Loss: nan\n",
      "Epoch 74, Loss: nan\n",
      "Epoch 75, Loss: nan\n",
      "Epoch 76, Loss: nan\n",
      "Epoch 77, Loss: nan\n",
      "Epoch 78, Loss: nan\n",
      "Epoch 79, Loss: nan\n",
      "Epoch 80, Loss: nan\n",
      "Epoch 81, Loss: nan\n",
      "Epoch 82, Loss: nan\n",
      "Epoch 83, Loss: nan\n",
      "Epoch 84, Loss: nan\n",
      "Epoch 85, Loss: nan\n",
      "Epoch 86, Loss: nan\n",
      "Epoch 87, Loss: nan\n",
      "Epoch 88, Loss: nan\n",
      "Epoch 89, Loss: nan\n",
      "Epoch 90, Loss: nan\n",
      "Epoch 91, Loss: nan\n",
      "Epoch 92, Loss: nan\n",
      "Epoch 93, Loss: nan\n",
      "Epoch 94, Loss: nan\n",
      "Epoch 95, Loss: nan\n",
      "Epoch 96, Loss: nan\n",
      "Epoch 97, Loss: nan\n",
      "Epoch 98, Loss: nan\n",
      "Epoch 99, Loss: nan\n",
      "Epoch 100, Loss: nan\n"
     ]
    }
   ],
   "source": [
    "losses = []\n",
    "train_outs = {}\n",
    "samples = 100\n",
    "INPUT_MULTIPLIER = 0.000001\n",
    "\n",
    "for epoch in range(100):\n",
    "    epoch_loss = torch.zeros(1, dtype=torch.float, requires_grad=True).to(compute_device)\n",
    "    optimizer.zero_grad()\n",
    "    \n",
    "    train_outs[f'epoch{epoch}'] = {}\n",
    "    \n",
    "    acceleration, sine_signal = generate_inputs(samples)\n",
    "    model.init_hidden_state()\n",
    "\n",
    "    for t in range(len(acceleration)):\n",
    "        preactivations, hidden_state, W = model([acceleration[t] * INPUT_MULTIPLIER, sine_signal[t] * INPUT_MULTIPLIER])\n",
    "        # train_outs[f'epoch{epoch}']['preactivations'] = preactivations\n",
    "        # train_outs[f'epoch{epoch}']['hidden_state'] = hidden_state\n",
    "        # train_outs[f'epoch{epoch}']['W'] = W\n",
    "        iteration_loss = L1_loss_function(preactivations)\n",
    "        epoch_loss = epoch_loss + iteration_loss\n",
    "        \n",
    "        # if t in [0,100,500,999]:\n",
    "        #     print(preactivations)\n",
    "        #     print(hidden_state)\n",
    "        #     print(W)\n",
    "\n",
    "    epoch_loss.backward(retain_graph=True)\n",
    "    optimizer.step()\n",
    "    losses.append(epoch_loss.item())\n",
    "    print(f'Epoch {epoch+1}, Loss: {epoch_loss.item():.4f}')"
   ]
  },
  {
   "cell_type": "code",
   "execution_count": 32,
   "id": "c8c47e11-e196-41a0-b619-c9c9527178ee",
   "metadata": {
    "tags": []
   },
   "outputs": [
    {
     "data": {
      "image/png": "[encoded data removed]",
      "text/plain": [
       "<Figure size 640x480 with 1 Axes>"
      ]
     },
     "metadata": {},
     "output_type": "display_data"
    }
   ],
   "source": [
    "plt.plot(losses)\n",
    "plt.ylabel('L1 preactivations loss')\n",
    "plt.xlabel('epoch')\n",
    "plt.show()"
   ]
  },
  {
   "cell_type": "code",
   "execution_count": null,
   "id": "a1e8e9bc-27dd-4401-8804-6b2ee2a78c3c",
   "metadata": {},
   "outputs": [],
   "source": []
  }
 ],
 "metadata": {
  "kernelspec": {
   "display_name": "Python [conda env:jh_torch]",
   "language": "python",
   "name": "conda-env-jh_torch-py"
  },
  "language_info": {
   "codemirror_mode": {
    "name": "ipython",
    "version": 3
   },
   "file_extension": ".py",
   "mimetype": "text/x-python",
   "name": "python",
   "nbconvert_exporter": "python",
   "pygments_lexer": "ipython3",
   "version": "3.11.6"
  }
 },
 "nbformat": 4,
 "nbformat_minor": 5
}
