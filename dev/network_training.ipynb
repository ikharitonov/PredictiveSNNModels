{
 "cells": [
  {
   "cell_type": "code",
   "execution_count": 1,
   "id": "56c6f50b-d4ca-438b-b1c1-0280f14a4cff",
   "metadata": {
    "tags": []
   },
   "outputs": [
    {
     "name": "stderr",
     "output_type": "stream",
     "text": [
      "Matplotlib created a temporary cache directory at /tmp/matplotlib-12jkqf1m because the default path (/home/jupyter-ikharitonov/.cache/matplotlib) is not a writable directory; it is highly recommended to set the MPLCONFIGDIR environment variable to a writable directory, in particular to speed up the import of Matplotlib and to better support multiprocessing.\n"
     ]
    }
   ],
   "source": [
    "import torch\n",
    "import torch.nn as nn\n",
    "import numpy as np\n",
    "import matplotlib.pyplot as plt"
   ]
  },
  {
   "cell_type": "code",
   "execution_count": 2,
   "id": "8e7c1738-b943-479e-aa4c-3412f672e3b8",
   "metadata": {},
   "outputs": [],
   "source": [
    "compute_device = torch.device('cuda')"
   ]
  },
  {
   "cell_type": "code",
   "execution_count": null,
   "id": "516eaf54-37da-48ff-ae11-21477ac626ee",
   "metadata": {},
   "outputs": [],
   "source": []
  },
  {
   "cell_type": "code",
   "execution_count": null,
   "id": "c95dd9d4-da41-4769-947e-8b09ab6d8dfe",
   "metadata": {},
   "outputs": [],
   "source": []
  },
  {
   "cell_type": "code",
   "execution_count": 3,
   "id": "6412c6a0-e51b-43ba-bba3-7f13873c897a",
   "metadata": {
    "tags": []
   },
   "outputs": [
    {
     "data": {
      "text/plain": [
       "tensor([1., 2.], device='cuda:0')"
      ]
     },
     "execution_count": 3,
     "metadata": {},
     "output_type": "execute_result"
    }
   ],
   "source": [
    "torch.Tensor([1,2]).to(compute_device)"
   ]
  },
  {
   "cell_type": "code",
   "execution_count": 4,
   "id": "c454c2f3-1623-478c-b743-652844dea95d",
   "metadata": {},
   "outputs": [],
   "source": [
    "class FullyConnectedRNN(nn.Module):\n",
    "    def __init__(self, hidden_units, input_units = 2):\n",
    "        super(FullyConnectedRNN, self).__init__()\n",
    "        \n",
    "        self.parameter_list = nn.ParameterList()\n",
    "        \n",
    "        self.hidden_units = hidden_units\n",
    "        self.input_units = input_units\n",
    "        \n",
    "        self.W = nn.Parameter(torch.randn(self.hidden_units, self.hidden_units)).to(compute_device)\n",
    "        self.Win = nn.Parameter(torch.randn(self.input_units, self.hidden_units)).to(compute_device)\n",
    "        \n",
    "        self.relu = nn.ReLU()\n",
    "        \n",
    "        self.parameter_list.append(self.W)\n",
    "    \n",
    "    def init_hidden_state(self):\n",
    "        self.hidden_state = torch.zeros(self.hidden_units).to(compute_device)\n",
    "    \n",
    "    def forward(self, x):\n",
    "        \n",
    "        # solution 1: architectural - input-segregated populatons\n",
    "        input_matrix = torch.ones(self.hidden_units).to(compute_device)\n",
    "        input_matrix[:self.hidden_units//2] *= x[0]\n",
    "        input_matrix[self.hidden_units//2:] *= x[1]\n",
    "        \n",
    "        # solution 2:\n",
    "        input_state = torch.Tensor(x).to(compute_device)\n",
    "        input_matrix = input_state @ self.Win\n",
    "               \n",
    "        preactivations = self.hidden_state @ self.W + input_matrix\n",
    "        self.hidden_state = self.relu(preactivations)\n",
    "        \n",
    "        return preactivations, self.hidden_state.detach(), self.W"
   ]
  },
  {
   "cell_type": "code",
   "execution_count": 5,
   "id": "5cfb6e07-7cad-41f5-a4d3-34530ffdc9f0",
   "metadata": {},
   "outputs": [],
   "source": [
    "# FUNCTIONS\n",
    "def generate_acceleration_and_velocity(samples, initial_velocity = 1):\n",
    "    \n",
    "    acceleration = np.around(np.random.normal(0,1, samples), 2)\n",
    "    \n",
    "    velocity = [initial_velocity]\n",
    "    const = 0.1\n",
    "    for i in range(acceleration.shape[0]):\n",
    "        velocity.append(velocity[-1] + const*acceleration[i])\n",
    "    \n",
    "    return acceleration, velocity\n",
    "\n",
    "def generate_variable_sine(samples, velocity):\n",
    "    def get_freq_per_sample(rad_angle, dt):\n",
    "        return 2 * np.pi * rad_angle * dt\n",
    "\n",
    "    t = np.linspace(0, 1, samples)\n",
    "    dt = t[1]-t[0]\n",
    "    y = list()\n",
    "    phi = 0\n",
    "    for i in range(t.shape[0]):\n",
    "        c = np.cos(phi)\n",
    "        y.append(c)\n",
    "        phi = phi + get_freq_per_sample(10*velocity[i], dt)\n",
    "    return t, y"
   ]
  },
  {
   "cell_type": "code",
   "execution_count": 6,
   "id": "f5d531a2-f6df-4d8d-b898-7875718ecbf4",
   "metadata": {
    "tags": []
   },
   "outputs": [],
   "source": [
    "def generate_inputs(samples):\n",
    "    acceleration, velocity = generate_acceleration_and_velocity(samples)\n",
    "    t, sine_signal = generate_variable_sine(samples, velocity)\n",
    "    return acceleration, sine_signal"
   ]
  },
  {
   "cell_type": "code",
   "execution_count": 7,
   "id": "6d77d38f-07fe-4a68-b0d5-02108975050f",
   "metadata": {},
   "outputs": [],
   "source": [
    "SAMPLE_NUM = 1000\n",
    "acceleration, velocity = generate_acceleration_and_velocity(SAMPLE_NUM)\n",
    "t, sine_signal = generate_variable_sine(SAMPLE_NUM, velocity)"
   ]
  },
  {
   "cell_type": "code",
   "execution_count": null,
   "id": "ac269980-8923-4cdd-84c7-a971ed7335f5",
   "metadata": {},
   "outputs": [],
   "source": []
  },
  {
   "cell_type": "markdown",
   "id": "28d53355-8e88-4da0-81c5-610e450f6d8f",
   "metadata": {},
   "source": [
    "### Training"
   ]
  },
  {
   "cell_type": "code",
   "execution_count": 8,
   "id": "d2f2308d-96b6-4049-9ae6-121732cefd54",
   "metadata": {
    "tags": []
   },
   "outputs": [
    {
     "data": {
      "text/plain": [
       "True"
      ]
     },
     "execution_count": 8,
     "metadata": {},
     "output_type": "execute_result"
    }
   ],
   "source": [
    "torch.cuda.is_available()"
   ]
  },
  {
   "cell_type": "code",
   "execution_count": 9,
   "id": "6ab7bdec-c0f7-4031-891d-2944dc5e2c69",
   "metadata": {},
   "outputs": [],
   "source": [
    "def L1_loss_function(x):\n",
    "    return torch.mean(torch.abs(x))"
   ]
  },
  {
   "cell_type": "code",
   "execution_count": 10,
   "id": "960125f3-25e4-4275-89be-febe5c7138e2",
   "metadata": {},
   "outputs": [],
   "source": [
    "model = FullyConnectedRNN(100)\n",
    "\n",
    "learning_rate = 0.00001\n",
    "optimizer = torch.optim.Adam(model.parameters(), lr=learning_rate)"
   ]
  },
  {
   "cell_type": "code",
   "execution_count": 11,
   "id": "8be11872-41d0-4d21-bb96-2e4b599d70e4",
   "metadata": {},
   "outputs": [
    {
     "name": "stdout",
     "output_type": "stream",
     "text": [
      "Epoch 1, Loss: 60.8135\n",
      "Epoch 2, Loss: 66.4279\n",
      "Epoch 3, Loss: 57.8008\n",
      "Epoch 4, Loss: 60.7588\n",
      "Epoch 5, Loss: 59.8194\n",
      "Epoch 6, Loss: 77.1557\n",
      "Epoch 7, Loss: 121.3158\n",
      "Epoch 8, Loss: 59.2398\n",
      "Epoch 9, Loss: 71.8369\n",
      "Epoch 10, Loss: 86.4875\n",
      "Epoch 11, Loss: 58.7087\n",
      "Epoch 12, Loss: 65.1564\n",
      "Epoch 13, Loss: 85.2095\n",
      "Epoch 14, Loss: 97.5419\n",
      "Epoch 15, Loss: 105.4479\n",
      "Epoch 16, Loss: 72.1372\n",
      "Epoch 17, Loss: 60.7835\n",
      "Epoch 18, Loss: 55.0309\n",
      "Epoch 19, Loss: 91.4994\n",
      "Epoch 20, Loss: 71.0707\n",
      "Epoch 21, Loss: 73.1899\n",
      "Epoch 22, Loss: 65.1704\n",
      "Epoch 23, Loss: 77.9003\n",
      "Epoch 24, Loss: 108.8577\n",
      "Epoch 25, Loss: 87.2359\n",
      "Epoch 26, Loss: 63.0257\n",
      "Epoch 27, Loss: 77.0361\n",
      "Epoch 28, Loss: 70.9763\n",
      "Epoch 29, Loss: 105.5712\n",
      "Epoch 30, Loss: 71.4447\n",
      "Epoch 31, Loss: 65.3230\n",
      "Epoch 32, Loss: 83.3868\n",
      "Epoch 33, Loss: 94.1633\n",
      "Epoch 34, Loss: 77.7930\n",
      "Epoch 35, Loss: 111.4954\n",
      "Epoch 36, Loss: 62.0451\n",
      "Epoch 37, Loss: 61.6128\n",
      "Epoch 38, Loss: 73.1973\n",
      "Epoch 39, Loss: 68.6968\n",
      "Epoch 40, Loss: 104.6211\n",
      "Epoch 41, Loss: 71.2214\n",
      "Epoch 42, Loss: 139.5605\n",
      "Epoch 43, Loss: 64.3655\n",
      "Epoch 44, Loss: 64.4271\n",
      "Epoch 45, Loss: 78.6620\n",
      "Epoch 46, Loss: 62.2969\n",
      "Epoch 47, Loss: 64.7653\n",
      "Epoch 48, Loss: 72.7856\n",
      "Epoch 49, Loss: 57.2114\n",
      "Epoch 50, Loss: 55.8789\n",
      "Epoch 51, Loss: 157.1939\n",
      "Epoch 52, Loss: 67.0188\n",
      "Epoch 53, Loss: 87.6997\n",
      "Epoch 54, Loss: 78.9479\n",
      "Epoch 55, Loss: 63.3895\n",
      "Epoch 56, Loss: 175.2742\n",
      "Epoch 57, Loss: 103.1287\n",
      "Epoch 58, Loss: 60.3121\n",
      "Epoch 59, Loss: 72.6725\n",
      "Epoch 60, Loss: 85.4924\n",
      "Epoch 61, Loss: 85.3581\n",
      "Epoch 62, Loss: 77.8897\n",
      "Epoch 63, Loss: 135.2595\n",
      "Epoch 64, Loss: 130.1964\n",
      "Epoch 65, Loss: 75.8948\n",
      "Epoch 66, Loss: 129.0383\n",
      "Epoch 67, Loss: 64.5464\n",
      "Epoch 68, Loss: 59.1750\n",
      "Epoch 69, Loss: 68.0651\n",
      "Epoch 70, Loss: 98.8330\n",
      "Epoch 71, Loss: 92.5054\n",
      "Epoch 72, Loss: 97.1009\n",
      "Epoch 73, Loss: 72.0614\n",
      "Epoch 74, Loss: 120.0544\n",
      "Epoch 75, Loss: 92.3526\n",
      "Epoch 76, Loss: 151.3302\n",
      "Epoch 77, Loss: 131.6359\n",
      "Epoch 78, Loss: 64.8130\n",
      "Epoch 79, Loss: 108.7002\n",
      "Epoch 80, Loss: 68.5158\n",
      "Epoch 81, Loss: 79.3100\n",
      "Epoch 82, Loss: 79.8559\n",
      "Epoch 83, Loss: 94.6572\n",
      "Epoch 84, Loss: 69.8654\n",
      "Epoch 85, Loss: 74.4415\n",
      "Epoch 86, Loss: 73.6278\n",
      "Epoch 87, Loss: 98.4293\n",
      "Epoch 88, Loss: 65.0035\n",
      "Epoch 89, Loss: 84.3517\n",
      "Epoch 90, Loss: 81.6141\n",
      "Epoch 91, Loss: 110.1363\n",
      "Epoch 92, Loss: 145.9162\n",
      "Epoch 93, Loss: 121.6628\n",
      "Epoch 94, Loss: 62.2758\n",
      "Epoch 95, Loss: 151.0753\n",
      "Epoch 96, Loss: 80.7813\n",
      "Epoch 97, Loss: 81.3537\n",
      "Epoch 98, Loss: 62.8831\n",
      "Epoch 99, Loss: 92.1854\n",
      "Epoch 100, Loss: 92.0444\n"
     ]
    }
   ],
   "source": [
    "losses = []\n",
    "train_outs = {}\n",
    "samples = 10\n",
    "INPUT_MULTIPLIER = 0.000001\n",
    "\n",
    "for epoch in range(100):\n",
    "    epoch_loss = torch.zeros(1, dtype=torch.float, requires_grad=True).to(compute_device)\n",
    "    optimizer.zero_grad()\n",
    "    \n",
    "    train_outs[f'epoch{epoch}'] = {}\n",
    "    \n",
    "    acceleration, sine_signal = generate_inputs(samples)\n",
    "    model.init_hidden_state()\n",
    "\n",
    "    for t in range(len(acceleration)):\n",
    "        preactivations, hidden_state, W = model([acceleration[t] * INPUT_MULTIPLIER, sine_signal[t] * INPUT_MULTIPLIER])\n",
    "        # train_outs[f'epoch{epoch}']['preactivations'] = preactivations\n",
    "        # train_outs[f'epoch{epoch}']['hidden_state'] = hidden_state\n",
    "        # train_outs[f'epoch{epoch}']['W'] = W\n",
    "        iteration_loss = L1_loss_function(preactivations)\n",
    "        epoch_loss = epoch_loss + iteration_loss\n",
    "        \n",
    "        # if t in [0,100,500,999]:\n",
    "        #     print(preactivations)\n",
    "        #     print(hidden_state)\n",
    "        #     print(W)\n",
    "\n",
    "    epoch_loss.backward()\n",
    "    optimizer.step()\n",
    "    losses.append(epoch_loss.item())\n",
    "    print(f'Epoch {epoch+1}, Loss: {epoch_loss.item():.4f}')"
   ]
  },
  {
   "cell_type": "code",
   "execution_count": 12,
   "id": "c8c47e11-e196-41a0-b619-c9c9527178ee",
   "metadata": {
    "tags": []
   },
   "outputs": [
    {
     "data": {
      "image/png": "[encoded data removed]",
      "text/plain": [
       "<Figure size 640x480 with 1 Axes>"
      ]
     },
     "metadata": {},
     "output_type": "display_data"
    }
   ],
   "source": [
    "plt.plot(losses)\n",
    "plt.ylabel('L1 preactivations loss')\n",
    "plt.xlabel('epoch')\n",
    "plt.show()"
   ]
  },
  {
   "cell_type": "code",
   "execution_count": null,
   "id": "a1e8e9bc-27dd-4401-8804-6b2ee2a78c3c",
   "metadata": {},
   "outputs": [],
   "source": []
  }
 ],
 "metadata": {
  "kernelspec": {
   "display_name": "Python [conda env:jh_torch]",
   "language": "python",
   "name": "conda-env-jh_torch-py"
  },
  "language_info": {
   "codemirror_mode": {
    "name": "ipython",
    "version": 3
   },
   "file_extension": ".py",
   "mimetype": "text/x-python",
   "name": "python",
   "nbconvert_exporter": "python",
   "pygments_lexer": "ipython3",
   "version": "3.11.6"
  }
 },
 "nbformat": 4,
 "nbformat_minor": 5
}
